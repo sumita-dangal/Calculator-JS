{
  "nbformat": 4,
  "nbformat_minor": 0,
  "metadata": {
    "colab": {
      "provenance": [],
      "authorship_tag": "ABX9TyPvec9FMqw5YtbgQBc6/3qw"
    },
    "kernelspec": {
      "name": "python3",
      "display_name": "Python 3"
    },
    "language_info": {
      "name": "python"
    }
  },
  "cells": [
    {
      "cell_type": "markdown",
      "source": [
        "**Tutorial 1**"
      ],
      "metadata": {
        "id": "J7idUrF1TZHF"
      }
    },
    {
      "cell_type": "code",
      "source": [
        "import torch"
      ],
      "metadata": {
        "id": "jyhXLGEUTgpj"
      },
      "execution_count": null,
      "outputs": []
    },
    {
      "cell_type": "code",
      "source": [
        "x = torch.empty(1,2)\n",
        "print(x)"
      ],
      "metadata": {
        "colab": {
          "base_uri": "https://localhost:8080/"
        },
        "id": "97gvkpRzLxow",
        "outputId": "322853a7-bcaf-4ece-a47b-8e23ecfe082b"
      },
      "execution_count": null,
      "outputs": [
        {
          "output_type": "stream",
          "name": "stdout",
          "text": [
            "tensor([[-3.9524e-33,  4.5226e-41]])\n"
          ]
        }
      ]
    },
    {
      "cell_type": "code",
      "source": [
        "x = torch.empty(2,2)\n",
        "print(x)"
      ],
      "metadata": {
        "colab": {
          "base_uri": "https://localhost:8080/"
        },
        "id": "GA3w-XSbL4I0",
        "outputId": "47854e83-2026-4ae3-891e-d18cebe4bfb6"
      },
      "execution_count": null,
      "outputs": [
        {
          "output_type": "stream",
          "name": "stdout",
          "text": [
            "tensor([[-3.9524e-33,  4.5226e-41],\n",
            "        [-3.9524e-33,  4.5226e-41]])\n"
          ]
        }
      ]
    },
    {
      "cell_type": "code",
      "source": [
        "x = torch.rand(2,2)\n",
        "print(x)"
      ],
      "metadata": {
        "colab": {
          "base_uri": "https://localhost:8080/"
        },
        "id": "mbepe3oAL8O0",
        "outputId": "7958cfde-bbb9-4eff-e77f-4a5936e21e98"
      },
      "execution_count": null,
      "outputs": [
        {
          "output_type": "stream",
          "name": "stdout",
          "text": [
            "tensor([[0.4031, 0.0713],\n",
            "        [0.2612, 0.1891]])\n"
          ]
        }
      ]
    },
    {
      "cell_type": "code",
      "source": [
        "x = torch.zeros(2,2)\n",
        "print(x)"
      ],
      "metadata": {
        "colab": {
          "base_uri": "https://localhost:8080/"
        },
        "id": "Yqy6kj43MAQR",
        "outputId": "c802a374-2bdf-4f2b-913e-26013acc4c2a"
      },
      "execution_count": null,
      "outputs": [
        {
          "output_type": "stream",
          "name": "stdout",
          "text": [
            "tensor([[0., 0.],\n",
            "        [0., 0.]])\n"
          ]
        }
      ]
    },
    {
      "cell_type": "code",
      "source": [
        "x = torch.ones(2,2, dtype=torch.float16)\n",
        "\n",
        "print(x.size())\n",
        "print(x.dtype)"
      ],
      "metadata": {
        "colab": {
          "base_uri": "https://localhost:8080/"
        },
        "id": "mm_x6u21MOEe",
        "outputId": "06ff10ee-c7d3-494b-d69b-3a846e9c57fe"
      },
      "execution_count": null,
      "outputs": [
        {
          "output_type": "stream",
          "name": "stdout",
          "text": [
            "torch.Size([2, 2])\n",
            "torch.float16\n"
          ]
        }
      ]
    },
    {
      "cell_type": "code",
      "source": [
        "x = torch.tensor([2.5,0.1])\n",
        "print(x)"
      ],
      "metadata": {
        "colab": {
          "base_uri": "https://localhost:8080/"
        },
        "id": "zp2iIKIkMPtG",
        "outputId": "113d12b3-6fed-4aa4-db9a-7230468b5ba6"
      },
      "execution_count": null,
      "outputs": [
        {
          "output_type": "stream",
          "name": "stdout",
          "text": [
            "tensor([2.5000, 0.1000])\n"
          ]
        }
      ]
    },
    {
      "cell_type": "code",
      "source": [
        "x = torch.rand(2,2)\n",
        "y = torch.rand(2,2)\n",
        "print(x)\n",
        "print(y)\n"
      ],
      "metadata": {
        "colab": {
          "base_uri": "https://localhost:8080/"
        },
        "id": "yQ7YNi85MyJT",
        "outputId": "a0c11985-94ef-4637-91d8-e4dd2e1b4aa4"
      },
      "execution_count": null,
      "outputs": [
        {
          "output_type": "stream",
          "name": "stdout",
          "text": [
            "tensor([[0.8054, 0.2201],\n",
            "        [0.8285, 0.5581]])\n",
            "tensor([[0.8700, 0.1591],\n",
            "        [0.9753, 0.2799]])\n"
          ]
        }
      ]
    },
    {
      "cell_type": "code",
      "source": [
        "z = x + y\n",
        "print(z)"
      ],
      "metadata": {
        "colab": {
          "base_uri": "https://localhost:8080/"
        },
        "id": "xTUGDCzEM7xI",
        "outputId": "1428f107-f76e-46c1-b7f8-f9d4b4ede937"
      },
      "execution_count": null,
      "outputs": [
        {
          "output_type": "stream",
          "name": "stdout",
          "text": [
            "tensor([[1.6753, 0.3792],\n",
            "        [1.8038, 0.8381]])\n"
          ]
        }
      ]
    },
    {
      "cell_type": "code",
      "source": [
        "z = torch.add(x,y)\n",
        "print(z)"
      ],
      "metadata": {
        "colab": {
          "base_uri": "https://localhost:8080/"
        },
        "id": "VMxmmedqNG4W",
        "outputId": "3a965cc1-3b6d-463d-9cae-a2f368c7fe7b"
      },
      "execution_count": null,
      "outputs": [
        {
          "output_type": "stream",
          "name": "stdout",
          "text": [
            "tensor([[1.6753, 0.3792],\n",
            "        [1.8038, 0.8381]])\n"
          ]
        }
      ]
    },
    {
      "cell_type": "code",
      "source": [
        "y.add_(x)\n",
        "print(y)"
      ],
      "metadata": {
        "colab": {
          "base_uri": "https://localhost:8080/"
        },
        "id": "u8KyBydRNKOJ",
        "outputId": "61b059f4-298f-4cfe-8b99-518e2edd3e2b"
      },
      "execution_count": null,
      "outputs": [
        {
          "output_type": "stream",
          "name": "stdout",
          "text": [
            "tensor([[1.6753, 0.3792],\n",
            "        [1.8038, 0.8381]])\n"
          ]
        }
      ]
    },
    {
      "cell_type": "code",
      "source": [
        "z = x-y\n",
        "print(z)"
      ],
      "metadata": {
        "colab": {
          "base_uri": "https://localhost:8080/"
        },
        "id": "fcCb_y1UNNvB",
        "outputId": "21be9c44-b538-47b9-aef9-eadba6f4aa33"
      },
      "execution_count": null,
      "outputs": [
        {
          "output_type": "stream",
          "name": "stdout",
          "text": [
            "tensor([[-0.8700, -0.1591],\n",
            "        [-0.9753, -0.2799]])\n"
          ]
        }
      ]
    },
    {
      "cell_type": "code",
      "source": [
        "z=torch.mul(x,y)\n",
        "print(z)"
      ],
      "metadata": {
        "colab": {
          "base_uri": "https://localhost:8080/"
        },
        "id": "Wc9vKOEcNSzH",
        "outputId": "ed0654b3-7c12-46e2-89c6-e63a82a23e8d"
      },
      "execution_count": null,
      "outputs": [
        {
          "output_type": "stream",
          "name": "stdout",
          "text": [
            "tensor([[1.3492, 0.0835],\n",
            "        [1.4945, 0.4678]])\n"
          ]
        }
      ]
    },
    {
      "cell_type": "code",
      "source": [
        "x = torch.rand(5,3)\n",
        "print(x)\n",
        "print(x[:,0])\n",
        "print(x[1,:])\n",
        "\n",
        "print(x[1,1])\n",
        "\n",
        "print(x[1,1].item())"
      ],
      "metadata": {
        "colab": {
          "base_uri": "https://localhost:8080/"
        },
        "id": "H_JPfCIpNXBx",
        "outputId": "6ed6fca7-4002-4b52-9942-be3bf76d46be"
      },
      "execution_count": null,
      "outputs": [
        {
          "output_type": "stream",
          "name": "stdout",
          "text": [
            "tensor([[0.4250, 0.5768, 0.5823],\n",
            "        [0.4496, 0.5481, 0.4654],\n",
            "        [0.5580, 0.6069, 0.6132],\n",
            "        [0.0349, 0.4031, 0.0217],\n",
            "        [0.7865, 0.7756, 0.2407]])\n",
            "tensor([0.4250, 0.4496, 0.5580, 0.0349, 0.7865])\n",
            "tensor([0.4496, 0.5481, 0.4654])\n",
            "tensor(0.5481)\n",
            "0.548124372959137\n"
          ]
        }
      ]
    },
    {
      "cell_type": "code",
      "source": [
        "import torch\n",
        "\n",
        "x = torch.rand(4,4)\n",
        "print(x)\n",
        "y = x.view(-1,8)\n",
        "print(y.size())"
      ],
      "metadata": {
        "colab": {
          "base_uri": "https://localhost:8080/"
        },
        "id": "yOY88gosNiib",
        "outputId": "5a9f3c76-c102-43c8-f3fd-87982c748340"
      },
      "execution_count": null,
      "outputs": [
        {
          "output_type": "stream",
          "name": "stdout",
          "text": [
            "tensor([[0.6982, 0.2067, 0.7705, 0.6947],\n",
            "        [0.0478, 0.7996, 0.9512, 0.7047],\n",
            "        [0.2959, 0.3481, 0.5121, 0.5760],\n",
            "        [0.5159, 0.9073, 0.7384, 0.1258]])\n",
            "torch.Size([2, 8])\n"
          ]
        }
      ]
    },
    {
      "cell_type": "code",
      "source": [
        "import torch\n",
        "import numpy as np"
      ],
      "metadata": {
        "id": "S8smBES1PqRE"
      },
      "execution_count": null,
      "outputs": []
    },
    {
      "cell_type": "code",
      "source": [
        "a = torch.ones(5)\n",
        "print(a)\n",
        "b = a.numpy()\n",
        "print(b)"
      ],
      "metadata": {
        "colab": {
          "base_uri": "https://localhost:8080/"
        },
        "id": "WuCOe432QwhI",
        "outputId": "dbe112ef-6576-459c-a877-723b5dcf2fb9"
      },
      "execution_count": null,
      "outputs": [
        {
          "output_type": "stream",
          "name": "stdout",
          "text": [
            "tensor([1., 1., 1., 1., 1.])\n",
            "[1. 1. 1. 1. 1.]\n"
          ]
        }
      ]
    },
    {
      "cell_type": "code",
      "source": [
        "print(type(b))"
      ],
      "metadata": {
        "colab": {
          "base_uri": "https://localhost:8080/"
        },
        "id": "aluJ_-3DQyx9",
        "outputId": "6d4db936-aa84-4c91-810a-0fe4b7c9751c"
      },
      "execution_count": null,
      "outputs": [
        {
          "output_type": "stream",
          "name": "stdout",
          "text": [
            "<class 'numpy.ndarray'>\n"
          ]
        }
      ]
    },
    {
      "cell_type": "code",
      "source": [
        "a.add_(1)\n",
        "print(a)\n",
        "print(b)"
      ],
      "metadata": {
        "colab": {
          "base_uri": "https://localhost:8080/"
        },
        "id": "-YREsK-2RGqr",
        "outputId": "b604ab98-a20d-4e51-bacf-b0dc3f20fc05"
      },
      "execution_count": null,
      "outputs": [
        {
          "output_type": "stream",
          "name": "stdout",
          "text": [
            "tensor([2., 2., 2., 2., 2.])\n",
            "[2. 2. 2. 2. 2.]\n"
          ]
        }
      ]
    },
    {
      "cell_type": "code",
      "source": [
        "a = np.ones(5)\n",
        "print(a)\n",
        "b = torch.from_numpy(a)\n",
        "print(b)"
      ],
      "metadata": {
        "colab": {
          "base_uri": "https://localhost:8080/"
        },
        "id": "rJjqslq-RQ3A",
        "outputId": "2004a431-c570-4c74-f06e-fb2e77b169a6"
      },
      "execution_count": null,
      "outputs": [
        {
          "output_type": "stream",
          "name": "stdout",
          "text": [
            "[1. 1. 1. 1. 1.]\n",
            "tensor([1., 1., 1., 1., 1.], dtype=torch.float64)\n"
          ]
        }
      ]
    },
    {
      "cell_type": "code",
      "source": [
        "a+=1\n",
        "print(a)\n",
        "print(b)"
      ],
      "metadata": {
        "colab": {
          "base_uri": "https://localhost:8080/"
        },
        "id": "XuqHWwk_Rb79",
        "outputId": "3ac4f0d8-24f4-4b7d-d48f-a3805e9b1edb"
      },
      "execution_count": null,
      "outputs": [
        {
          "output_type": "stream",
          "name": "stdout",
          "text": [
            "[2. 2. 2. 2. 2.]\n",
            "tensor([2., 2., 2., 2., 2.], dtype=torch.float64)\n"
          ]
        }
      ]
    },
    {
      "cell_type": "code",
      "source": [
        "x = torch.ones(5, requires_grad = True)\n",
        "print(x)"
      ],
      "metadata": {
        "colab": {
          "base_uri": "https://localhost:8080/"
        },
        "id": "koGHW8zkRf-M",
        "outputId": "92cfdffb-eb6b-4f63-dc4c-0cf74b6fc993"
      },
      "execution_count": null,
      "outputs": [
        {
          "output_type": "stream",
          "name": "stdout",
          "text": [
            "tensor([1., 1., 1., 1., 1.], requires_grad=True)\n"
          ]
        }
      ]
    },
    {
      "cell_type": "markdown",
      "source": [
        "**Tutorial 2**"
      ],
      "metadata": {
        "id": "j-8JgyjlTsWD"
      }
    },
    {
      "cell_type": "code",
      "source": [
        "import torch\n",
        "\n",
        "x = torch.randn(3,requires_grad=True)\n",
        "print(x)\n",
        "\n",
        "#y = x+2\n",
        "#print(y)\n",
        "\n",
        "#z=y*y*2\n",
        "#z = y*y*2\n",
        "#z = z.mean()\n",
        "#print(z)\n",
        "#z.backward()\n",
        "#print(x.grad)\n",
        "\n",
        "### x.requires_grad_(False)\n",
        "### x.detach()\n",
        "### with torch.no_grad():\n",
        "\n",
        "#x.requires_grad_(False)\n",
        "#print(x)\n",
        "\n",
        "#y = x.detach()\n",
        "#print(y)\n",
        "\n",
        "with torch.no_grad():\n",
        "    y = x+2\n",
        "    print(y)"
      ],
      "metadata": {
        "colab": {
          "base_uri": "https://localhost:8080/"
        },
        "id": "z9J4M4rDR9bS",
        "outputId": "c316c6fc-6162-4ad0-c7fc-c06447891dd3"
      },
      "execution_count": 10,
      "outputs": [
        {
          "output_type": "stream",
          "name": "stdout",
          "text": [
            "tensor([-0.9697,  0.2939, -0.1658], requires_grad=True)\n",
            "tensor([1.0303, 2.2939, 1.8342])\n"
          ]
        }
      ]
    },
    {
      "cell_type": "code",
      "source": [
        "\n",
        "import torch\n",
        "\n",
        "weights = torch.ones(4, requires_grad=True)\n",
        "\n",
        "for epoch in range(3):\n",
        "  model_output = (weights*3).sum()\n",
        "\n",
        "  model_output.backward()\n",
        "\n",
        "  print(weights.grad)\n",
        "  weights.grad.zero_()"
      ],
      "metadata": {
        "id": "smKO7TUKU3RC",
        "colab": {
          "base_uri": "https://localhost:8080/"
        },
        "outputId": "92e87a9f-ceef-4210-e0c9-eda3af621eae"
      },
      "execution_count": 18,
      "outputs": [
        {
          "output_type": "stream",
          "name": "stdout",
          "text": [
            "tensor([3., 3., 3., 3.])\n",
            "tensor([3., 3., 3., 3.])\n",
            "tensor([3., 3., 3., 3.])\n"
          ]
        }
      ]
    },
    {
      "cell_type": "code",
      "source": [
        "### Backpropagation\n",
        "\n",
        "import torch\n",
        "\n",
        "x = torch.tensor(1.0)\n",
        "y = torch.tensor(2.0)\n",
        "\n",
        "w = torch.tensor(1.0,requires_grad = True)\n",
        "\n",
        "y_hat = w*x\n",
        "loss = (y_hat - y)**2\n",
        "print(loss)\n",
        "\n",
        "loss.backward()\n",
        "print(w.grad)\n"
      ],
      "metadata": {
        "colab": {
          "base_uri": "https://localhost:8080/"
        },
        "id": "yxABoEYzivH5",
        "outputId": "8bbea10a-eeb0-4af0-ec65-71071ebfdd8a"
      },
      "execution_count": 20,
      "outputs": [
        {
          "output_type": "stream",
          "name": "stdout",
          "text": [
            "tensor(1., grad_fn=<PowBackward0>)\n",
            "tensor(-2.)\n"
          ]
        }
      ]
    },
    {
      "cell_type": "markdown",
      "source": [
        "**Gradient Descent with Autograd and Backpropagation**"
      ],
      "metadata": {
        "id": "Ep-CWhpKpckv"
      }
    },
    {
      "cell_type": "code",
      "source": [
        "import numpy as np\n",
        "\n",
        "#f = w * x\n",
        "#f = 2 * x\n",
        "\n",
        "X = np.array([1,2,3,4], dtype = np.float32)\n",
        "Y = np.array([2,4,6,8], dtype = np.float32)\n",
        "\n",
        "w = 0.0\n",
        "\n",
        "#model prediction\n",
        "def forward(x):\n",
        "  return w * x\n",
        "\n",
        "#loss = MSE\n",
        "def loss(y,y_predicted):\n",
        "  return ((y_predicted-y)**2).mean()\n",
        "\n",
        "#gradient\n",
        "def gradient(x,y,y_predicted):\n",
        "  return np.dot(2*x,y_predicted-y).mean()\n",
        "\n",
        "def gradient(x,y,y_predicted):\n",
        "  return np.dot(2*x,y_predicted-y).mean()\n",
        "\n",
        "print(f'Prediction before training: f(5) = {forward(5):.3f}')\n",
        "\n",
        "#Training\n",
        "learning_rate = 0.01\n",
        "n_iters = 20\n",
        "\n",
        "for epoch in range(n_iters):\n",
        "  #prediction = forward pass\n",
        "  y_pred = forward(X)\n",
        "\n",
        "  #loss\n",
        "  l = loss(Y,y_pred)\n",
        "\n",
        "  #gradients\n",
        "  dw = gradient(X,Y,y_pred)\n",
        "\n",
        "  #update weights\n",
        "  w -= learning_rate * dw\n",
        "\n",
        "  if epoch % 2 == 0:\n",
        "    print(f'epoch {epoch+1}: w = {w:3f}, loss = {l:8f}')\n",
        "\n",
        "print(f'Prediction after training: f(5) = {forward(5): .3f}')\n",
        "\n",
        "#Training\n",
        "learning_rate = 0.01\n",
        "n_iters = 10\n",
        "\n",
        "for epoch in range(n_iters):\n",
        "  #prediction= forwand pass\n",
        "  y_pred = forward(X)\n",
        "\n",
        "  #loss\n",
        "  l = loss(Y,y_pred)\n",
        "\n",
        "  #gradients\n",
        "  dw = gradient(X,Y,y_pred)\n",
        "\n",
        "  #update weights\n",
        "  w -= learning_rate * dw\n",
        "\n",
        "  if epoch % 1 ==0:\n",
        "    print(f'epoch {epoch + 1}: w = {w:.3f},loss = {l:.8f}')\n",
        "\n",
        "print(f'Prediction after training: f(5) = {forward(5):.3f}')\n",
        "\n"
      ],
      "metadata": {
        "colab": {
          "base_uri": "https://localhost:8080/"
        },
        "id": "v3aPuQfQj2LL",
        "outputId": "17ce8c78-0ac0-4b85-fb1d-e73a33380a62"
      },
      "execution_count": 3,
      "outputs": [
        {
          "output_type": "stream",
          "name": "stdout",
          "text": [
            "Prediction before training: f(5) = 0.000\n",
            "epoch 1: w = 1.200000, loss = 30.000000\n",
            "epoch 3: w = 1.872000, loss = 0.768000\n",
            "epoch 5: w = 1.979520, loss = 0.019661\n",
            "epoch 7: w = 1.996723, loss = 0.000503\n",
            "epoch 9: w = 1.999476, loss = 0.000013\n",
            "epoch 11: w = 1.999916, loss = 0.000000\n",
            "epoch 13: w = 1.999987, loss = 0.000000\n",
            "epoch 15: w = 1.999998, loss = 0.000000\n",
            "epoch 17: w = 2.000000, loss = 0.000000\n",
            "epoch 19: w = 2.000000, loss = 0.000000\n",
            "Prediction after training: f(5) =  10.000\n",
            "epoch 1: w = 2.000,loss = 0.00000000\n",
            "epoch 2: w = 2.000,loss = 0.00000000\n",
            "epoch 3: w = 2.000,loss = 0.00000000\n",
            "epoch 4: w = 2.000,loss = 0.00000000\n",
            "epoch 5: w = 2.000,loss = 0.00000000\n",
            "epoch 6: w = 2.000,loss = 0.00000000\n",
            "epoch 7: w = 2.000,loss = 0.00000000\n",
            "epoch 8: w = 2.000,loss = 0.00000000\n",
            "epoch 9: w = 2.000,loss = 0.00000000\n",
            "epoch 10: w = 2.000,loss = 0.00000000\n",
            "Prediction after training: f(5) = 10.000\n"
          ]
        }
      ]
    },
    {
      "cell_type": "code",
      "source": [
        "import torch\n",
        "\n",
        "#f = w * x\n",
        "#f = 2 * x\n",
        "\n",
        "X = torch.tensor([1,2,3,4], dtype = torch.float32)\n",
        "Y = torch.tensor([2,4,6,8], dtype = torch.float32)\n",
        "\n",
        "w = torch.tensor(0.0, dtype = torch.float32, requires_grad= True)\n",
        "\n",
        "#model prediction\n",
        "def forward(x):\n",
        "  return w * x\n",
        "\n",
        "#loss = MSE\n",
        "def loss(y,y_predicted):\n",
        "  return ((y_predicted-y)**2).mean()\n",
        "\n",
        "\n",
        "print(f'Prediction before training: f(5) = {forward(5):.3f}')\n",
        "\n",
        "#Training\n",
        "learning_rate = 0.01\n",
        "n_iters = 100\n",
        "\n",
        "for epoch in range(n_iters):\n",
        "  #prediction = forward pass\n",
        "  y_pred = forward(X)\n",
        "\n",
        "  #loss\n",
        "  l = loss(Y,y_pred)\n",
        "\n",
        "  #gradients = backward pass\n",
        "  l.backward()\n",
        "\n",
        "  #update weights\n",
        "\n",
        "  with torch.no_grad():\n",
        "        w -= learning_rate * w.grad\n",
        "\n",
        "  w.grad.zero_()\n",
        "\n",
        "  if epoch % 10 == 0:\n",
        "    print(f'epoch {epoch+1}: w = {w:3f}, loss = {l:8f}')\n",
        "\n",
        "print(f'Prediction after training: f(5) = {forward(5): .3f}')\n"
      ],
      "metadata": {
        "colab": {
          "base_uri": "https://localhost:8080/"
        },
        "id": "zw1wKsmEtwlA",
        "outputId": "4fb7f015-51f2-4cb5-fd17-b9a1b650cd9f"
      },
      "execution_count": 7,
      "outputs": [
        {
          "output_type": "stream",
          "name": "stdout",
          "text": [
            "Prediction before training: f(5) = 0.000\n",
            "epoch 1: w = 0.300000, loss = 30.000000\n",
            "epoch 11: w = 1.665314, loss = 1.162786\n",
            "epoch 21: w = 1.934109, loss = 0.045069\n",
            "epoch 31: w = 1.987028, loss = 0.001747\n",
            "epoch 41: w = 1.997446, loss = 0.000068\n",
            "epoch 51: w = 1.999497, loss = 0.000003\n",
            "epoch 61: w = 1.999901, loss = 0.000000\n",
            "epoch 71: w = 1.999980, loss = 0.000000\n",
            "epoch 81: w = 1.999996, loss = 0.000000\n",
            "epoch 91: w = 1.999999, loss = 0.000000\n",
            "Prediction after training: f(5) =  10.000\n"
          ]
        }
      ]
    },
    {
      "cell_type": "markdown",
      "source": [
        "**Training pipeline:Model, Loss and Optimizer**"
      ],
      "metadata": {
        "id": "vh8LksXNkR4y"
      }
    },
    {
      "cell_type": "code",
      "source": [
        "# 1. Design model(input, output size, forwand pass)\n",
        "# 2. Construct loss and optimizer\n",
        "# 3. Training loop\n",
        "#    - forward pass: compute prediction\n",
        "#    - backward pass: gradients\n",
        "#     -update weights\n",
        "\n",
        "import torch\n",
        "import torch.nn as nn\n",
        "\n",
        "X = torch.tensor([1,2,3,4], dtype = torch.float32)\n",
        "Y = torch.tensor([2,4,6,8], dtype = torch.float32)\n",
        "\n",
        "w = torch.tensor(0.0, dtype=torch.float32, requires_grad = True)\n",
        "\n",
        "#model prediction\n",
        "def forward(x):\n",
        "  return w * x\n",
        "\n",
        "print(f'Prediction before training: f(5) = {forward(5): .3f}')\n",
        "#Training\n",
        "learning_rate = 0.01\n",
        "n_iters = 100\n",
        "\n",
        "loss = nn.MSELoss()\n",
        "optimizer = torch.optim.SGD([w], lr=learning_rate)\n",
        "\n",
        "\n",
        "for epoch in range(n_iters):\n",
        "  #prediction = forward pass\n",
        "  y_pred = forward(X)\n",
        "\n",
        "  #loss\n",
        "  l = loss(Y,y_pred)\n",
        "\n",
        "  #gradients = backward pass\n",
        "  l.backward()\n",
        "\n",
        "  #update weights\n",
        "\n",
        "  optimizer.step()\n",
        "\n",
        "  #zero gradients\n",
        "  optimizer.zero_grad()\n",
        "\n",
        "  if epoch % 10 == 0:\n",
        "    print(f'epoch {epoch+1}: w = {w:3f}, loss = {l:8f}')\n",
        "\n",
        "print(f'Prediction after training: f(5) = {forward(5): .3f}')\n"
      ],
      "metadata": {
        "colab": {
          "base_uri": "https://localhost:8080/"
        },
        "id": "1hFADUlpkbOE",
        "outputId": "86a64784-65bf-4313-cf94-6b8f0e01860f"
      },
      "execution_count": 11,
      "outputs": [
        {
          "output_type": "stream",
          "name": "stdout",
          "text": [
            "Prediction before training: f(5) =  0.000\n",
            "epoch 1: w = 0.300000, loss = 30.000000\n",
            "epoch 11: w = 1.665314, loss = 1.162786\n",
            "epoch 21: w = 1.934109, loss = 0.045069\n",
            "epoch 31: w = 1.987028, loss = 0.001747\n",
            "epoch 41: w = 1.997446, loss = 0.000068\n",
            "epoch 51: w = 1.999497, loss = 0.000003\n",
            "epoch 61: w = 1.999901, loss = 0.000000\n",
            "epoch 71: w = 1.999980, loss = 0.000000\n",
            "epoch 81: w = 1.999996, loss = 0.000000\n",
            "epoch 91: w = 1.999999, loss = 0.000000\n",
            "Prediction after training: f(5) =  10.000\n"
          ]
        }
      ]
    },
    {
      "cell_type": "code",
      "source": [
        "\n",
        "import torch\n",
        "import torch.nn as nn\n",
        "\n",
        "X = torch.tensor([[1],[2],[3],[4]], dtype = torch.float32)\n",
        "Y = torch.tensor([[2],[4],[6],[8]], dtype = torch.float32)\n",
        "\n",
        "X_test = torch.tensor([5], dtype = torch.float32)\n",
        "\n",
        "n_samples, n_features = X.shape\n",
        "print(n_samples, n_features)\n",
        "\n",
        "input_size = n_features\n",
        "output_size = n_features\n",
        "\n",
        "model = nn.Linear(input_size, output_size)\n",
        "\n",
        "\n",
        "print(f'Prediction before training: f(5) = {model(X_test).item(): .3f}')\n",
        "#Training\n",
        "learning_rate = 0.01\n",
        "n_iters = 100\n",
        "\n",
        "loss = nn.MSELoss()\n",
        "optimizer = torch.optim.SGD(model.parameters(), lr=learning_rate)\n",
        "\n",
        "\n",
        "for epoch in range(n_iters):\n",
        "  #prediction = forward pass\n",
        "  y_pred = model(X)\n",
        "\n",
        "  #loss\n",
        "  l = loss(Y,y_pred)\n",
        "\n",
        "  #gradients = backward pass\n",
        "  l.backward()\n",
        "\n",
        "  #update weights\n",
        "\n",
        "  optimizer.step()\n",
        "\n",
        "  #zero gradients\n",
        "  optimizer.zero_grad()\n",
        "\n",
        "  if epoch % 10 == 0:\n",
        "    [w,b] = model.parameters()\n",
        "    print(f'epoch {epoch+1}: w = {w[0][0].item():.3f}, loss = {l:8f}')\n",
        "\n",
        "print(f'Prediction after training: f(5) = {model(X_test).item(): .3f}')\n"
      ],
      "metadata": {
        "colab": {
          "base_uri": "https://localhost:8080/"
        },
        "id": "XYXYk_3YoPWN",
        "outputId": "300ede9c-dc55-4e84-c1fc-726fc4971173"
      },
      "execution_count": 21,
      "outputs": [
        {
          "output_type": "stream",
          "name": "stdout",
          "text": [
            "4 1\n",
            "Prediction before training: f(5) =  0.534\n",
            "epoch 1: w = 0.262, loss = 24.758614\n",
            "epoch 11: w = 1.408, loss = 0.839227\n",
            "epoch 21: w = 1.601, loss = 0.208813\n",
            "epoch 31: w = 1.641, loss = 0.181612\n",
            "epoch 41: w = 1.656, loss = 0.170652\n",
            "epoch 51: w = 1.667, loss = 0.160709\n",
            "epoch 61: w = 1.677, loss = 0.151355\n",
            "epoch 71: w = 1.687, loss = 0.142545\n",
            "epoch 81: w = 1.696, loss = 0.134248\n",
            "epoch 91: w = 1.705, loss = 0.126434\n",
            "Prediction after training: f(5) =  9.408\n"
          ]
        }
      ]
    },
    {
      "cell_type": "code",
      "source": [],
      "metadata": {
        "id": "NZTrzRBFuDs6"
      },
      "execution_count": null,
      "outputs": []
    }
  ]
}